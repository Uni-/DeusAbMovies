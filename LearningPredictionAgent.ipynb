{
 "cells": [
  {
   "cell_type": "markdown",
   "metadata": {},
   "source": [
    "# LearningAgent"
   ]
  },
  {
   "cell_type": "markdown",
   "metadata": {},
   "source": [
    "## Module imports and data loader"
   ]
  },
  {
   "cell_type": "code",
   "execution_count": 223,
   "metadata": {
    "collapsed": false
   },
   "outputs": [],
   "source": [
    "# module imports\n",
    "\n",
    "import json\n",
    "import re\n",
    "import pandas\n",
    "import numpy\n",
    "import scipy\n",
    "import sklearn\n",
    "from sklearn.feature_extraction.text import *\n",
    "from sklearn.linear_model import SGDClassifier"
   ]
  },
  {
   "cell_type": "code",
   "execution_count": 224,
   "metadata": {
    "collapsed": true
   },
   "outputs": [],
   "source": [
    "# load list from jsons\n",
    "years = ['1990', '1991', '1992', '1993', '1994', '1995', '1996', '1997', '1998', '1999',\n",
    "         '2000', '2001', '2002', '2003', '2004', '2005', '2006', '2007', '2008', '2009',\n",
    "         '2010', '2011', '2012', '2013', '2014', '2015', '2016']\n",
    "\n",
    "all_data = dict()\n",
    "\n",
    "def load_info_of_year(year) :\n",
    "    data_file = open('movie_info_w_' + year + '.txt', 'r')\n",
    "    data = json.load(data_file)\n",
    "    data_file.close()\n",
    "    return data\n",
    "\n",
    "for year in years:\n",
    "    year_data = load_info_of_year(year)\n",
    "    all_data.update(year_data)"
   ]
  },
  {
   "cell_type": "code",
   "execution_count": 225,
   "metadata": {
    "collapsed": false
   },
   "outputs": [],
   "source": [
    "filtered_data = dict()\n",
    "\n",
    "#print len(all_data)\n",
    "\n",
    "for key in all_data:\n",
    "    if all_data[key]['netizen_rate'] is not None:\n",
    "        if all_data[key]['expert_rate'] is None or \\\n",
    "                all_data[key]['expert_rate'] is not None and \\\n",
    "                not (abs(all_data[key]['netizen_rate'] - all_data[key]['expert_rate']) > 4):\n",
    "            item = all_data[key].copy()\n",
    "            item.pop('expert_rate')\n",
    "            item.pop('watcher_rating')\n",
    "            item.pop('open_year')\n",
    "            item['staff'] = item['actor'] + item['director']\n",
    "            item.pop('actor')\n",
    "            item.pop('director')\n",
    "            if ' ' in item['nation']:\n",
    "                raise\n",
    "            item['staff'] = map(lambda x: '__STAFF__' + x.replace(' ', '_'), item['staff'])\n",
    "            filtered_data[key] = item\n",
    "            \n",
    "#print len(filtered_data)"
   ]
  },
  {
   "cell_type": "code",
   "execution_count": 226,
   "metadata": {
    "collapsed": false
   },
   "outputs": [
    {
     "data": {
      "text/html": [
       "<div>\n",
       "<table border=\"1\" class=\"dataframe\">\n",
       "  <thead>\n",
       "    <tr style=\"text-align: right;\">\n",
       "      <th></th>\n",
       "      <th>10001</th>\n",
       "      <th>100015</th>\n",
       "      <th>100021</th>\n",
       "      <th>100022</th>\n",
       "      <th>100023</th>\n",
       "    </tr>\n",
       "  </thead>\n",
       "  <tbody>\n",
       "    <tr>\n",
       "      <th>genre</th>\n",
       "      <td>[__GENRE__드라마, __GENRE__멜로/로맨스]</td>\n",
       "      <td>[__GENRE__애니메이션, __GENRE__가족, __GENRE__모험]</td>\n",
       "      <td>[__GENRE__애니메이션, __GENRE__판타지]</td>\n",
       "      <td>[__GENRE__애니메이션, __GENRE__판타지, __GENRE__드라마]</td>\n",
       "      <td>[__GENRE__드라마]</td>\n",
       "    </tr>\n",
       "    <tr>\n",
       "      <th>name</th>\n",
       "      <td>시네마 천국</td>\n",
       "      <td>천재강아지 미스터 피바디</td>\n",
       "      <td>신비의 법</td>\n",
       "      <td>극장판 마법소녀 마도카☆마기카 [전편] 시작의 이야기</td>\n",
       "      <td>부곡 하와이</td>\n",
       "    </tr>\n",
       "    <tr>\n",
       "      <th>nation</th>\n",
       "      <td>[__NATION__프랑스, __NATION__이탈리아]</td>\n",
       "      <td>[__NATION__미국]</td>\n",
       "      <td>[__NATION__일본]</td>\n",
       "      <td>[__NATION__일본]</td>\n",
       "      <td>[__NATION__한국]</td>\n",
       "    </tr>\n",
       "    <tr>\n",
       "      <th>netizen_rate</th>\n",
       "      <td>9.3</td>\n",
       "      <td>8.42</td>\n",
       "      <td>3.36</td>\n",
       "      <td>9.04</td>\n",
       "      <td>6.11</td>\n",
       "    </tr>\n",
       "    <tr>\n",
       "      <th>runtime</th>\n",
       "      <td>124</td>\n",
       "      <td>92</td>\n",
       "      <td>119</td>\n",
       "      <td>130</td>\n",
       "      <td>84</td>\n",
       "    </tr>\n",
       "    <tr>\n",
       "      <th>staff</th>\n",
       "      <td>[__STAFF__자끄_페렝, __STAFF__브리지트_포시, __STAFF__필립...</td>\n",
       "      <td>[__STAFF__타이_버렐, __STAFF__맥스_찰스, __STAFF__아리엘_...</td>\n",
       "      <td>[__STAFF__코야스_타케히토, __STAFF__후지무라_아유미, __STAFF...</td>\n",
       "      <td>[__STAFF__유우키_아오이, __STAFF__사이토_치와, __STAFF__미...</td>\n",
       "      <td>[__STAFF__박명신, __STAFF__류혜린, __STAFF__오성태, __S...</td>\n",
       "    </tr>\n",
       "  </tbody>\n",
       "</table>\n",
       "</div>"
      ],
      "text/plain": [
       "                                                          10001  \\\n",
       "genre                           [__GENRE__드라마, __GENRE__멜로/로맨스]   \n",
       "name                                                     시네마 천국   \n",
       "nation                          [__NATION__프랑스, __NATION__이탈리아]   \n",
       "netizen_rate                                                9.3   \n",
       "runtime                                                     124   \n",
       "staff         [__STAFF__자끄_페렝, __STAFF__브리지트_포시, __STAFF__필립...   \n",
       "\n",
       "                                                         100015  \\\n",
       "genre                [__GENRE__애니메이션, __GENRE__가족, __GENRE__모험]   \n",
       "name                                              천재강아지 미스터 피바디   \n",
       "nation                                           [__NATION__미국]   \n",
       "netizen_rate                                               8.42   \n",
       "runtime                                                      92   \n",
       "staff         [__STAFF__타이_버렐, __STAFF__맥스_찰스, __STAFF__아리엘_...   \n",
       "\n",
       "                                                         100021  \\\n",
       "genre                            [__GENRE__애니메이션, __GENRE__판타지]   \n",
       "name                                                      신비의 법   \n",
       "nation                                           [__NATION__일본]   \n",
       "netizen_rate                                               3.36   \n",
       "runtime                                                     119   \n",
       "staff         [__STAFF__코야스_타케히토, __STAFF__후지무라_아유미, __STAFF...   \n",
       "\n",
       "                                                         100022  \\\n",
       "genre              [__GENRE__애니메이션, __GENRE__판타지, __GENRE__드라마]   \n",
       "name                              극장판 마법소녀 마도카☆마기카 [전편] 시작의 이야기   \n",
       "nation                                           [__NATION__일본]   \n",
       "netizen_rate                                               9.04   \n",
       "runtime                                                     130   \n",
       "staff         [__STAFF__유우키_아오이, __STAFF__사이토_치와, __STAFF__미...   \n",
       "\n",
       "                                                         100023  \n",
       "genre                                            [__GENRE__드라마]  \n",
       "name                                                     부곡 하와이  \n",
       "nation                                           [__NATION__한국]  \n",
       "netizen_rate                                               6.11  \n",
       "runtime                                                      84  \n",
       "staff         [__STAFF__박명신, __STAFF__류혜린, __STAFF__오성태, __S...  "
      ]
     },
     "execution_count": 226,
     "metadata": {},
     "output_type": "execute_result"
    }
   ],
   "source": [
    "df = pandas.DataFrame(filtered_data)\n",
    "df.transpose().head().transpose()"
   ]
  },
  {
   "cell_type": "code",
   "execution_count": 227,
   "metadata": {
    "collapsed": false,
    "scrolled": true
   },
   "outputs": [],
   "source": [
    "dataset = list()\n",
    "stars = list()\n",
    "\n",
    "for movie_id in filtered_data :\n",
    "    staffs = reduce(lambda a, b : a + ' ' + b, filtered_data[movie_id]['staff'], '')\n",
    "    nations = reduce(lambda a, b : a + ' ' + b, filtered_data[movie_id]['nation'], '')\n",
    "    genres = reduce(lambda a, b : a + ' ' + b, filtered_data[movie_id]['genre'], '')\n",
    "    runtime = '__RUNTIME__' + str(filtered_data[movie_id]['runtime'] / 60) if filtered_data[movie_id]['runtime'] is not None else '__RUNTIME__X'\n",
    "    rate = filtered_data[movie_id]['netizen_rate']\n",
    "    \n",
    "    dataset.append(staffs + ' ' + nations + ' ' + genres + ' ' + runtime)\n",
    "    stars.append(rate)\n",
    "\n",
    "\n",
    "v = CountVectorizer(min_df=0)\n",
    "v.fit(dataset)\n",
    "X = v.transform(dataset).toarray()\n",
    "Y = stars\n",
    "Y = map(lambda x : (int)(x * 100), Y)"
   ]
  },
  {
   "cell_type": "markdown",
   "metadata": {},
   "source": [
    "## Model & Learning Validation"
   ]
  },
  {
   "cell_type": "code",
   "execution_count": 230,
   "metadata": {
    "collapsed": false,
    "scrolled": true
   },
   "outputs": [
    {
     "name": "stdout",
     "output_type": "stream",
     "text": [
      "14213\n",
      "Train: [0, 3000)\n",
      "Cross: [3000, 6000)\n",
      "0.0846666666667\n",
      "Train: [3000, 6000)\n",
      "Cross: [6000, 9000)\n",
      "0.097\n",
      "Train: [6000, 9000)\n",
      "Cross: [9000, 12000)\n",
      "0.0946666666667\n"
     ]
    }
   ],
   "source": [
    "# Useful model?\n",
    "# incremental cross-validator\n",
    "\n",
    "print len(X)\n",
    "div = 3 # set divider\n",
    "mul = 3000 # set size multiplier\n",
    "for i in range(div):\n",
    "    train_begin = ((i + 0) * mul)\n",
    "    train_end = ((i + 1) * mul)\n",
    "    cross_begin = ((i + 1) * mul)\n",
    "    cross_end = ((i + 2) * mul)\n",
    "    \n",
    "    print \"Train: [\" + str(train_begin) + \", \" + str(train_end) + \")\"\n",
    "    print \"Cross: [\" + str(cross_begin) + \", \" + str(cross_end) + \")\"\n",
    "    \n",
    "    train_X = X[train_begin:train_end]\n",
    "    train_Y = Y[train_begin:train_end]\n",
    "    cross_X = X[cross_begin:cross_end]\n",
    "    cross_Y = Y[cross_begin:cross_end]\n",
    "    \n",
    "    sgd = SGDClassifier(n_jobs=-1)\n",
    "    sgd.fit(train_X, train_Y)\n",
    "    \n",
    "    print sgd.score(cross_X, cross_Y)"
   ]
  },
  {
   "cell_type": "code",
   "execution_count": 231,
   "metadata": {
    "collapsed": false
   },
   "outputs": [
    {
     "data": {
      "text/plain": [
       "SGDClassifier(alpha=0.0001, average=False, class_weight=None, epsilon=0.1,\n",
       "       eta0=0.0, fit_intercept=True, l1_ratio=0.15,\n",
       "       learning_rate='optimal', loss='hinge', n_iter=5, n_jobs=-1,\n",
       "       penalty='l2', power_t=0.5, random_state=None, shuffle=True,\n",
       "       verbose=0, warm_start=False)"
      ]
     },
     "execution_count": 231,
     "metadata": {},
     "output_type": "execute_result"
    }
   ],
   "source": [
    "# For production\n",
    "# total set train\n",
    "setlen = (int)(len(X) * 0.8)\n",
    "\n",
    "sgd = SGDClassifier(n_jobs=-1)\n",
    "sgd.fit(X[0:setlen], Y[0:setlen])"
   ]
  },
  {
   "cell_type": "code",
   "execution_count": 232,
   "metadata": {
    "collapsed": false
   },
   "outputs": [
    {
     "name": "stdout",
     "output_type": "stream",
     "text": [
      "0.0809004572635\n"
     ]
    }
   ],
   "source": [
    "print sgd.score(X[setlen:], Y[setlen:])"
   ]
  },
  {
   "cell_type": "code",
   "execution_count": 233,
   "metadata": {
    "collapsed": false
   },
   "outputs": [],
   "source": [
    "def vectorize(genres, staffs, nations, runtime) :\n",
    "    nations = map(lambda x : '__NATION__' + x, nations)\n",
    "    staffs = map(lambda x : '__STAFF__' + x.replace(' ', '_'), staffs)\n",
    "    genres = map(lambda x : '__GENRE__' + x, genres)\n",
    "    \n",
    "    staffs = reduce(lambda a, b : a + ' ' + b, staffs, '')\n",
    "    nations = reduce(lambda a, b : a + ' ' + b, nations, '')\n",
    "    genres = reduce(lambda a, b : a + ' ' + b, genres, '')\n",
    "    runtime = '__RUNTIME__' + str(runtime / 60) if runtime is not None else '__RUNTIME__X'\n",
    "    \n",
    "    tmp = staffs + ' ' + nations + ' ' + genres + ' ' + runtime\n",
    "    return v.transform([tmp]).toarray()"
   ]
  },
  {
   "cell_type": "markdown",
   "metadata": {},
   "source": [
    "## Prediction Test  "
   ]
  },
  {
   "cell_type": "code",
   "execution_count": 297,
   "metadata": {
    "collapsed": false
   },
   "outputs": [
    {
     "name": "stdout",
     "output_type": "stream",
     "text": [
      "9.33\n"
     ]
    }
   ],
   "source": [
    "\"\"\" Input order: genre,\n",
    "    directors & actors,\n",
    "    nation,\n",
    "    running time\"\"\"\n",
    "predict_x = vectorize(['액션', 'SF'], \n",
    "                      ['안소니 루소',\n",
    "                       '크리스 에반스',\n",
    "                       '로버트 다우니 주니어',\n",
    "                       '세바스찬 스탠'], \n",
    "                      ['미국'], \n",
    "                      147)\n",
    "\n",
    "# print scipy.sparse.csr.csr_matrix(predict_x)\n",
    "\n",
    "# Predicted rating\n",
    "print sgd.predict(predict_x)[0] / 100.0"
   ]
  }
 ],
 "metadata": {
  "kernelspec": {
   "display_name": "Python 2",
   "language": "python",
   "name": "python2"
  },
  "language_info": {
   "codemirror_mode": {
    "name": "ipython",
    "version": 2
   },
   "file_extension": ".py",
   "mimetype": "text/x-python",
   "name": "python",
   "nbconvert_exporter": "python",
   "pygments_lexer": "ipython2",
   "version": "2.7.11"
  }
 },
 "nbformat": 4,
 "nbformat_minor": 0
}
