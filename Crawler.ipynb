{
 "cells": [
  {
   "cell_type": "markdown",
   "metadata": {},
   "source": [
    "# Initialize Code"
   ]
  },
  {
   "cell_type": "code",
   "execution_count": 2,
   "metadata": {
    "collapsed": true
   },
   "outputs": [],
   "source": [
    "# notice\n",
    "# <_1 1st, _2 2nd ,,, > : tuple\n",
    "# [ ... ] : list\n",
    "# { keytype, valtype } : dict"
   ]
  },
  {
   "cell_type": "code",
   "execution_count": 3,
   "metadata": {
    "collapsed": true
   },
   "outputs": [],
   "source": [
    "# import request\n",
    "import requests\n",
    "\n",
    "# import pattern\n",
    "from pattern import web\n",
    "from pattern.web import Element\n",
    "from pattern.web import plaintext\n",
    "\n",
    "# import regular expression\n",
    "import re\n",
    "\n",
    "# import json\n",
    "import json\n"
   ]
  },
  {
   "cell_type": "code",
   "execution_count": 3,
   "metadata": {
    "collapsed": true
   },
   "outputs": [],
   "source": [
    "def get_page(url) :\n",
    "    r = requests.get(url)\n",
    "    \n",
    "    if r.status_code is not 200 :\n",
    "        return None\n",
    "    \n",
    "    return r.text"
   ]
  },
  {
   "cell_type": "markdown",
   "metadata": {},
   "source": [
    "# Get Movie Counts per Year\n",
    "\n",
    "Crawl 'http://movie.naver.com/movie/sdb/browsing/bmovie_open.nhn' to get movie list\n",
    "\n",
    "\n"
   ]
  },
  {
   "cell_type": "code",
   "execution_count": 4,
   "metadata": {
    "collapsed": true
   },
   "outputs": [],
   "source": [
    "def get_movie_count_on_year() :\n",
    "    # result { str year, int count }\n",
    "    result = dict()\n",
    "    \n",
    "    # crawl $url_dir\n",
    "    url_dir = 'http://movie.naver.com/movie/sdb/browsing/bmovie_open.nhn'\n",
    "    page = get_page(url_dir)\n",
    "    \n",
    "    # find data\n",
    "    elem_root = Element(page)\n",
    "    \n",
    "    elem_old_content = elem_root('div[id=\"old_content\"]')\n",
    "    if len(elem_old_content) is not 1 :\n",
    "        return None\n",
    "    \n",
    "    elem_td = elem_old_content[0]('td')\n",
    "    if len(elem_td) is 0 :\n",
    "        return None\n",
    "    \n",
    "    # parse\n",
    "    td_list = map(lambda x : plaintext(x.content), elem_td)\n",
    "    \n",
    "    year_count_list = map(lambda x : re.split('\\W+' ,x)[0:2], td_list)\n",
    "    \n",
    "    # save at result   \n",
    "    for year_count in year_count_list :\n",
    "        result[year_count[0]] = int(year_count[1])\n",
    "    \n",
    "    return result"
   ]
  },
  {
   "cell_type": "code",
   "execution_count": 5,
   "metadata": {
    "collapsed": true
   },
   "outputs": [],
   "source": [
    "movie_counts = get_movie_count_on_year()"
   ]
  },
  {
   "cell_type": "markdown",
   "metadata": {},
   "source": [
    "# Get MetaData For Each Movie\n",
    "\n",
    "Crawl http://movie.naver.com/movie/sdb/browsing/bmovie.nhn?open=XXXX&page=XXXX to get pair of (movie name, movie code)\n",
    "\n",
    "movie code is used to search movie info at http://movie.naver.com/movie/bi/mi/detail.nhn?code=XXXX\n"
   ]
  },
  {
   "cell_type": "code",
   "execution_count": 24,
   "metadata": {
    "collapsed": false
   },
   "outputs": [],
   "source": [
    "# return [ <str name, str code> ]\n",
    "def get_movie_list_of_year_page(year, page) :\n",
    "    url_base = 'http://movie.naver.com/movie/sdb/browsing/bmovie.nhn?'\n",
    "    url_append = 'open=' + year + '&page=' + page\n",
    "    \n",
    "    # find data\n",
    "    page = get_page(url_base + url_append)\n",
    "    \n",
    "    elem_root = Element(page)\n",
    "    \n",
    "    elem_old_content = elem_root('div[id=\"old_content\"]')\n",
    "    if len(elem_old_content) is not 1 :\n",
    "        return []\n",
    "    \n",
    "    elem_li = elem_old_content[0]('ul[class=\"directory_list\"] > li')\n",
    "    if len(elem_li) is 0 :\n",
    "        return []\n",
    "    \n",
    "    elem_a = map(lambda x : x('a')[0], elem_li)\n",
    "    \n",
    "    # parse\n",
    "    hrefs = map(lambda x : x.attrs['href'], elem_a)\n",
    "    codes = map(lambda x : re.split('\\D+', x)[1] if len(re.split('\\D+',x )) is 2 else None, hrefs)\n",
    "    names = map(lambda x : x.content, elem_a)\n",
    "    \n",
    "    \n",
    "    # save to result\n",
    "    result = map(lambda x : (names[x], codes[x]), range(len(codes)))\n",
    "    \n",
    "    return result\n",
    "\n",
    "def get_movie_list_of_year(year) :\n",
    "    page_count = movie_counts[year] / 20\n",
    "    if movie_counts[year] % 20 is not 0 :\n",
    "        page_count = page_count + 1\n",
    "    \n",
    "    list_per_page = map(lambda x : get_movie_list_of_year_page(year, str(x)), range(1, page_count + 1))\n",
    "    list_per_year = reduce(lambda a, b : a + b, list_per_page, [])\n",
    "    \n",
    "    \n",
    "    return list_per_year"
   ]
  },
  {
   "cell_type": "code",
   "execution_count": 31,
   "metadata": {
    "collapsed": false
   },
   "outputs": [],
   "source": [
    "# filter\n",
    "movie_counts['1940'] = 0\n",
    "movie_counts['1950'] = 0\n",
    "movie_counts['1960'] = 0\n",
    "movie_counts['1970'] = 0\n",
    "movie_counts['1980'] = 0\n",
    "movie_counts['2017'] = 0\n",
    "\n",
    "# save to json\n",
    "for year in movie_counts :\n",
    "    if movie_counts[year] is not 0 :\n",
    "        tmp = get_movie_list_of_year(year)\n",
    "\n",
    "        data_file = open('movie_list_' + year + '.txt', 'w')\n",
    "        json.dump(tmp, data_file, ensure_ascii=True)\n",
    "        data_file.close()\n"
   ]
  },
  {
   "cell_type": "markdown",
   "metadata": {},
   "source": [
    "# Load MetaData"
   ]
  },
  {
   "cell_type": "code",
   "execution_count": 4,
   "metadata": {
    "collapsed": true
   },
   "outputs": [],
   "source": [
    "def load_list_of_year(year) :\n",
    "    data_file = open('movie_list_' + year + '.txt', 'r')\n",
    "    data = json.load(data_file)\n",
    "    data_file.close()\n",
    "    \n",
    "    return data"
   ]
  },
  {
   "cell_type": "code",
   "execution_count": 5,
   "metadata": {
    "collapsed": false
   },
   "outputs": [],
   "source": [
    "# load list from jsons\n",
    "years = ['2015', '2014', '2016', '2011', '2010', '2013', '2012', '1991', '1990', \n",
    "         '1993', '1992', '1995', '1994', '1997', '1996', '1999', '1998', '2002', \n",
    "         '2003', '2000', '2001', '2006', '2007', '2004', '2005', '2008', '2009']"
   ]
  },
  {
   "cell_type": "code",
   "execution_count": 6,
   "metadata": {
    "collapsed": false
   },
   "outputs": [],
   "source": [
    "movie_list_of_year = dict()\n",
    "\n",
    "# TODO: iterate through years and load\n",
    "movie_list_of_year[years[0]] = load_list_of_year(years[0])\n",
    "\n"
   ]
  },
  {
   "cell_type": "markdown",
   "metadata": {},
   "source": [
    "# Get MovieData\n",
    "data at http://movie.naver.com/movie/bi/mi/detail.nhn?code=XXXX and http://movie.naver.com/movie/bi/mi/point.nhn?code=XXXX\n",
    " \n",
    "\n",
    "\n"
   ]
  },
  {
   "cell_type": "code",
   "execution_count": 125,
   "metadata": {
    "collapsed": false
   },
   "outputs": [],
   "source": [
    "\n",
    "# { str param, object obj }\n",
    "# param : \n",
    "#    name\n",
    "#    watcher_rating\n",
    "#    netizen_rating\n",
    "#    expert_rating\n",
    "#    step1 : genre, nation, runtime, open_date\n",
    "#    director\n",
    "#    actor\n",
    "#    reviews\n",
    "def get_movie_info(code) :\n",
    "    # result { str param, object obj }\n",
    "    result = dict()\n",
    "    \n",
    "    url_base = 'http://movie.naver.com/movie/bi/mi/detail.nhn?code='\n",
    "    r = requests.get(url_base + str(code))\n",
    "    \n",
    "    elem_root = Element(r.text);\n",
    "    \n",
    "    elem_info_area = elem_root('div[class=\"mv_info_area\"]')\n",
    "    if len(elem_info_area) is not 1 :\n",
    "        return None\n",
    "    \n",
    "    # name\n",
    "    elem_movie_name = elem_info_area[0]('h3[class=\"h_movie\"] > a')\n",
    "    if len(elem_movie_name) is not 1 :\n",
    "        return None\n",
    "    \n",
    "    result['name'] = plaintext(elem_movie_name[0].content)\n",
    "    \n",
    "    # rate\n",
    "    elem_rating_group = elem_info_area[0]('div[class=\"main_score\"]')\n",
    "    if len(elem_rating_group) is 1 :\n",
    "    \n",
    "        # watcher rate\n",
    "        elem_actual_rate = elem_rating_group[0]('a[id=\"actualPointPersentBasic\"] > div > em')\n",
    "        list_actual_rate = map(lambda x : plaintext(x.content), elem_actual_rate)\n",
    "        actual_rate = reduce(lambda a, b : a + b, list_actual_rate, '')\n",
    "    \n",
    "        result['watcher_rating'] = actual_rate\n",
    "\n",
    "        # netizen rate\n",
    "        elem_netizen_rate = elem_rating_group[0]('a[id=\"pointNetizenPersentBasic\"] > em')\n",
    "        list_netizen_rate = map(lambda x : plaintext(x.content), elem_netizen_rate)\n",
    "        netizen_rate = reduce(lambda a, b : a + b, list_netizen_rate, '')\n",
    "    \n",
    "        result['netizen_rate'] = netizen_rate\n",
    "\n",
    "        #expert rate\n",
    "        elem_expert_rate = elem_rating_group[0]('div[class=\"spc_score_area\"] > a > div > em')\n",
    "        list_expert_rate = map(lambda x : plaintext(x.content), elem_expert_rate)\n",
    "        expert_rate = reduce(lambda a, b : a + b, list_expert_rate, '')\n",
    "    \n",
    "        result['expert_rate'] = expert_rate\n",
    "\n",
    "#TODO : Fix Code to Parse Easily    \n",
    "    # step1 : genre, nation, runtime, open_date\n",
    "    elem_steps = elem_info_area[0]('dd')\n",
    "    if len(elem_steps) is not 0 :\n",
    "        elem_spans = elem_steps[0]('p > span')\n",
    "        \n",
    "        span_list = list()\n",
    "        for elem_span in elem_spans :\n",
    "            span_list.append(elem_span)\n",
    "        result['step1'] = span_list\n",
    "\n",
    "        \n",
    "    #    actor\n",
    "    \n",
    "    #    director\n",
    "    \n",
    "    #    reviews\n",
    "    \n",
    "    return result\n",
    "\n",
    "# { str param, object obj }\n",
    "# param : \n",
    "#    name : str\n",
    "#    watcher_rating : float\n",
    "#    netizen_rating : float\n",
    "#    expert_rating : float\n",
    "#    genre : [ int genre_num ]\n",
    "#    nation : [ str nation_code ]\n",
    "#    runtime : int minute\n",
    "#    open_date : datetime\n",
    "#    \n",
    "def parse_movie_info(info) :\n",
    "    return"
   ]
  },
  {
   "cell_type": "code",
   "execution_count": 126,
   "metadata": {
    "collapsed": false
   },
   "outputs": [],
   "source": [
    "tmp = get_movie_info(99701)"
   ]
  },
  {
   "cell_type": "code",
   "execution_count": 127,
   "metadata": {
    "collapsed": false
   },
   "outputs": [
    {
     "name": "stdout",
     "output_type": "stream",
     "text": [
      "<a href=\"/movie/sdb/browsing/bmovie.nhn?nation=US\">미국</a><!-- N=a:ifo.nation -->, <a href=\"/movie/sdb/browsing/bmovie.nhn?nation=GB\">영국</a><!-- N=a:ifo.nation -->\n"
     ]
    }
   ],
   "source": [
    "print tmp['step1'][1]"
   ]
  },
  {
   "cell_type": "code",
   "execution_count": null,
   "metadata": {
    "collapsed": true
   },
   "outputs": [],
   "source": []
  },
  {
   "cell_type": "code",
   "execution_count": null,
   "metadata": {
    "collapsed": true
   },
   "outputs": [],
   "source": []
  }
 ],
 "metadata": {
  "kernelspec": {
   "display_name": "Python 2",
   "language": "python",
   "name": "python2"
  },
  "language_info": {
   "codemirror_mode": {
    "name": "ipython",
    "version": 2
   },
   "file_extension": ".py",
   "mimetype": "text/x-python",
   "name": "python",
   "nbconvert_exporter": "python",
   "pygments_lexer": "ipython2",
   "version": "2.7.11"
  }
 },
 "nbformat": 4,
 "nbformat_minor": 0
}
